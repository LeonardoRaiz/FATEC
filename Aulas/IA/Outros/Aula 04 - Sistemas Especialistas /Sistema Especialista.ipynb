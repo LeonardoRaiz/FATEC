{
 "cells": [
  {
   "cell_type": "markdown",
   "metadata": {},
   "source": [
    "# Aulas de Sistemas Baseados em Conhecimento e Sistemas Especialistas\n",
    "\n",
    "Este notebook cobre os fundamentos dos Sistemas Baseados em Conhecimento (SBC) e o desenvolvimento prático de Sistemas Especialistas (SE) utilizando Python.\n",
    "\n",
    "**Estrutura da Aula:**\n",
    "* **Módulo 1:** Fundamentos de Sistemas Baseados em Conhecimento (SBC)\n",
    "* **Módulo 2:** Representação do Conhecimento e Motor de Inferência\n",
    "* **Módulo 3:** Ferramentas para Sistemas Especialistas (Biblioteca `Experta`)\n",
    "* **Módulo 4:** Desenvolvimento de um Sistema Especialista - Diagnóstico de Doenças de Plantas\n",
    "* **Módulo 5:** Desenvolvimento de um Sistema Especialista - Interação e Explicação"
   ]
  },
  {
   "cell_type": "markdown",
   "metadata": {},
   "source": [
    "---"
   ]
  },
  {
   "cell_type": "markdown",
   "metadata": {},
   "source": [
    "## Módulo 1: Fundamentos de Sistemas Baseados em Conhecimento (SBC)\n",
    "\n",
    "**Teoria:**\n",
    "Um **Sistema Baseado em Conhecimento (SBC)** é um programa de computador que raciocina e usa uma base de conhecimento para resolver problemas complexos. Ao contrário dos programas tradicionais, que seguem algoritmos fixos, os SBCs separam o conhecimento do problema (a *base de conhecimento*) do mecanismo que aplica esse conhecimento (o *motor de inferência*).\n",
    "\n",
    "**Componentes Principais:**\n",
    "1.  **Base de Conhecimento (Knowledge Base):** Armazena o conhecimento do domínio específico na forma de fatos e regras. É o \"cérebro\" do sistema.\n",
    "    * **Fatos:** Informações declarativas e inquestionáveis sobre o problema. *Ex: \"A folha da planta está amarela.\"*\n",
    "    * **Regras:** Relações lógicas ou heurísticas que descrevem como derivar novos fatos. Geralmente no formato **SE (IF) <condição> ENTÃO (THEN) <ação/conclusão>**. *Ex: \"SE a folha está amarela E a rega é excessiva, ENTÃO a planta tem fungos nas raízes.\"*\n",
    "2.  **Motor de Inferência (Inference Engine):** É o componente que processa a base de conhecimento para chegar a uma conclusão. Ele aplica as regras aos fatos disponíveis para deduzir novas informações. É o \"raciocínio\" do sistema.\n",
    "\n",
    "A grande vantagem dessa arquitetura é a **modularidade**: podemos atualizar ou modificar a base de conhecimento sem precisar alterar a lógica do motor de inferência."
   ]
  },
  {
   "cell_type": "markdown",
   "metadata": {},
   "source": [
    "**Código: Um SBC Simples com Dicionários e Funções**\n",
    "\n",
    "Vamos criar um sistema extremamente simples para recomendar uma atividade de lazer com base no clima. A base de conhecimento será um dicionário Python e o motor de inferência será uma função."
   ]
  },
  {
   "cell_type": "code",
   "metadata": {
    "ExecuteTime": {
     "end_time": "2025-09-18T14:10:30.125495Z",
     "start_time": "2025-09-18T14:10:30.119611Z"
    }
   },
   "source": [
    "# Módulo 1: Código\n",
    "\n",
    "# 1. Base de Conhecimento (Fatos e Regras implícitas na estrutura)\n",
    "base_de_conhecimento = {\n",
    "    \"sol\": {\n",
    "        \"quente\": \"Ir à praia\",\n",
    "        \"ameno\": \"Fazer uma caminhada no parque\"\n",
    "    },\n",
    "    \"nublado\": {\n",
    "        \"quente\": \"Visitar um museu com ar condicionado\",\n",
    "        \"ameno\": \"Tomar um café na livraria\"\n",
    "    },\n",
    "    \"chuva\": {\n",
    "        \"quente\": \"Assistir a um filme em casa\",\n",
    "        \"ameno\": \"Assistir a um filme em casa\"\n",
    "    }\n",
    "}\n",
    "\n",
    "# 2. Motor de Inferência (uma função simples)\n",
    "def motor_inferencia_clima(fatos):\n",
    "    clima = fatos.get('clima')\n",
    "    temperatura = fatos.get('temperatura')\n",
    "\n",
    "    if clima in base_de_conhecimento and temperatura in base_de_conhecimento[clima]:\n",
    "        return base_de_conhecimento[clima][temperatura]\n",
    "    else:\n",
    "        return \"Não tenho uma recomendação para essa combinação.\"\n",
    "\n",
    "# 3. Simulação de uma consulta\n",
    "# Fatos iniciais sobre a situação atual\n",
    "fatos_atuais = {\n",
    "    'clima': 'sol',\n",
    "    'temperatura': 'quente'\n",
    "}\n",
    "\n",
    "conclusao = motor_inferencia_clima(fatos_atuais)\n",
    "print(f\"Fatos: {fatos_atuais}\")\n",
    "print(f\"Recomendação do sistema: {conclusao}\")\n",
    "\n",
    "# Outro exemplo\n",
    "fatos_atuais_2 = {\n",
    "    'clima': 'nublado',\n",
    "    'temperatura': 'ameno'\n",
    "}\n",
    "conclusao_2 = motor_inferencia_clima(fatos_atuais_2)\n",
    "print(f\"\\nFatos: {fatos_atuais_2}\")\n",
    "print(f\"Recomendação do sistema: {conclusao_2}\")"
   ],
   "outputs": [
    {
     "name": "stdout",
     "output_type": "stream",
     "text": [
      "Fatos: {'clima': 'sol', 'temperatura': 'quente'}\n",
      "Recomendação do sistema: Ir à praia\n",
      "\n",
      "Fatos: {'clima': 'nublado', 'temperatura': 'ameno'}\n",
      "Recomendação do sistema: Tomar um café na livraria\n"
     ]
    }
   ],
   "execution_count": 1
  },
  {
   "cell_type": "markdown",
   "metadata": {},
   "source": [
    "---"
   ]
  },
  {
   "cell_type": "markdown",
   "metadata": {},
   "source": [
    "## Módulo 2: Representação do Conhecimento e Motor de Inferência\n",
    "\n",
    "**Teoria:**\n",
    "A forma como representamos o conhecimento e a estratégia que o motor de inferência usa para processá-lo são cruciais.\n",
    "\n",
    "**Formas de Representação do Conhecimento:**\n",
    "- **Regras de Produção (IF-THEN):** A forma mais comum, como vimos acima.\n",
    "- **Redes Semânticas:** Grafos onde os nós representam conceitos e as arestas representam relações entre eles (ex: \"Canário\" -> *é um* -> \"Pássaro\").\n",
    "- **Frames:** Estruturas de dados que representam objetos ou conceitos com \"slots\" para seus atributos (ex: um frame \"Carro\" com slots para `cor`, `modelo`, `ano`).\n",
    "\n",
    "**Estratégias do Motor de Inferência:**\n",
    "1.  **Encadeamento para Frente (Forward Chaining):**\n",
    "    - **Orientado a dados.**\n",
    "    - Começa com os **fatos iniciais** e aplica as regras para derivar novas conclusões.\n",
    "    - Ele avança da condição (SE) para a conclusão (ENTÃO).\n",
    "    - Ideal para problemas de **monitoramento, diagnóstico e planejamento**, onde coletamos dados e queremos ver o que acontece.\n",
    "\n",
    "2.  **Encadeamento para Trás (Backward Chaining):**\n",
    "    - **Orientado a objetivos.**\n",
    "    - Começa com uma **hipótese (objetivo)** e tenta prová-la, buscando fatos e regras que a suportem.\n",
    "    - Ele trabalha \"para trás\", da conclusão (ENTÃO) para a condição (SE).\n",
    "    - Ideal para **sistemas de diagnóstico**, onde temos um sintoma (conclusão) e queremos encontrar a causa (fatos)."
   ]
  },
  {
   "cell_type": "markdown",
   "metadata": {},
   "source": [
    "**Código: Implementando um Motor de Inferência de Encadeamento para Frente**\n",
    "\n",
    "Vamos criar um sistema simples de identificação de animais. Teremos uma lista de fatos e uma lista de regras. Nosso motor de inferência irá varrer as regras repetidamente, e se uma regra puder ser \"disparada\" (sua condição for satisfeita pelos fatos atuais), sua conclusão será adicionada como um novo fato."
   ]
  },
  {
   "cell_type": "code",
   "metadata": {
    "ExecuteTime": {
     "end_time": "2025-09-18T14:12:27.354963Z",
     "start_time": "2025-09-18T14:12:27.348414Z"
    }
   },
   "source": [
    "# Módulo 2: Código\n",
    "\n",
    "# Base de Conhecimento\n",
    "fatos = [\"tem_penas\", \"voa\", \"pode_cantar\"]\n",
    "regras = [\n",
    "    {\n",
    "        \"se\": [\"tem_penas\", \"voa\"],\n",
    "        \"entao\": \"e_passaro\"\n",
    "    },\n",
    "    {\n",
    "        \"se\": [\"e_passaro\", \"pode_cantar\"],\n",
    "        \"entao\": \"e_canario\"\n",
    "    },\n",
    "    {\n",
    "        \"se\": [\"tem_pelos\", \"late\"],\n",
    "        \"entao\": \"e_cachorro\"\n",
    "    }\n",
    "]\n",
    "\n",
    "# Motor de Inferência (Forward Chaining)\n",
    "def motor_forward_chaining(fatos_iniciais, regras):\n",
    "    fatos_derivados = list(fatos_iniciais) # Copia para não modificar a lista original\n",
    "    novo_fato_adicionado = True\n",
    "\n",
    "    # O loop continua enquanto novas conclusões estiverem sendo adicionadas\n",
    "    while novo_fato_adicionado:\n",
    "        novo_fato_adicionado = False\n",
    "        for regra in regras:\n",
    "            condicao_satisfeita = all(condicao in fatos_derivados for condicao in regra[\"se\"])\n",
    "            \n",
    "            # Se a condição é satisfeita e a conclusão ainda não é um fato\n",
    "            if condicao_satisfeita and regra[\"entao\"] not in fatos_derivados:\n",
    "                fatos_derivados.append(regra[\"entao\"])\n",
    "                print(f\"Regra disparada: SE {regra['se']} ENTÃO {regra['entao']}\")\n",
    "                print(f\"Novo fato adicionado: {regra['entao']}\")\n",
    "                novo_fato_adicionado = True\n",
    "    \n",
    "    return fatos_derivados\n",
    "\n",
    "# Executando o sistema\n",
    "print(f\"Fatos Iniciais: {fatos}\\n\")\n",
    "fatos_finais = motor_forward_chaining(fatos, regras)\n",
    "print(f\"\\nFatos Finais (incluindo derivados): {fatos_finais}\")\n",
    "\n",
    "if \"e_canario\" in fatos_finais:\n",
    "    print(\"\\nConclusão final: O animal é um canário.\")"
   ],
   "outputs": [
    {
     "name": "stdout",
     "output_type": "stream",
     "text": [
      "Fatos Iniciais: ['tem_penas', 'voa', 'pode_cantar']\n",
      "\n",
      "Regra disparada: SE ['tem_penas', 'voa'] ENTÃO e_passaro\n",
      "Novo fato adicionado: e_passaro\n",
      "Regra disparada: SE ['e_passaro', 'pode_cantar'] ENTÃO e_canario\n",
      "Novo fato adicionado: e_canario\n",
      "\n",
      "Fatos Finais (incluindo derivados): ['tem_penas', 'voa', 'pode_cantar', 'e_passaro', 'e_canario']\n",
      "\n",
      "Conclusão final: O animal é um canário.\n"
     ]
    }
   ],
   "execution_count": 2
  },
  {
   "cell_type": "markdown",
   "metadata": {},
   "source": [
    "---"
   ]
  },
  {
   "cell_type": "markdown",
   "metadata": {},
   "source": [
    "## Módulo 3: Ferramentas para Sistemas Especialistas (Biblioteca `Experta`)\n",
    "\n",
    "**Teoria:**\n",
    "Um **Sistema Especialista (SE)** é um tipo de SBC que emula a capacidade de tomada de decisão de um especialista humano em um domínio de conhecimento restrito. Criar um motor de inferência do zero, como fizemos, é didático, mas para problemas reais, usamos ferramentas chamadas **shells de sistemas especialistas**.\n",
    "\n",
    "Um shell fornece a estrutura básica (principalmente o motor de inferência) e nós apenas precisamos \"preenchê-lo\" com a base de conhecimento do nosso problema.\n",
    "\n",
    "Em Python, a biblioteca `experta` (uma sucessora da `pyknow`) é um excelente shell para construir sistemas especialistas baseados em regras.\n",
    "\n",
    "**Principais conceitos em `Experta`:**\n",
    "- **`KnowledgeEngine`:** A classe principal que representa nosso sistema especialista.\n",
    "- **`Fact`:** Representa um fato. Pode ter atributos nomeados. *Ex: `Fact(animal='canario')` ou `Fact(tem_penas=True)`.*\n",
    "- **`DefFacts`:** Um decorador para declarar os fatos iniciais do sistema.\n",
    "- **`Rule`:** Um decorador para definir as regras. A condição de uma regra é uma combinação de fatos e a ação é um método Python."
   ]
  },
  {
   "cell_type": "markdown",
   "metadata": {},
   "source": [
    "**Código: Reimplementando o Sistema de Animais com `Experta`**\n",
    "\n",
    "Primeiro, você precisa instalar a biblioteca. Se estiver no Colab ou Jupyter, pode executar a célula de código abaixo."
   ]
  },
  {
   "cell_type": "code",
   "metadata": {
    "ExecuteTime": {
     "end_time": "2025-09-18T14:13:30.564276Z",
     "start_time": "2025-09-18T14:13:30.544964Z"
    }
   },
   "source": [
    "from experta import *\n",
    "\n",
    "# Em `experta`, os fatos são mais estruturados.\n",
    "class Caracteristica(Fact):\n",
    "    \"Representa uma característica observada.\"\n",
    "    pass\n",
    "\n",
    "class Animal(KnowledgeEngine):\n",
    "    @DefFacts()\n",
    "    def fatos_iniciais(self):\n",
    "        \"\"\"Declara os fatos iniciais que o sistema conhece.\"\"\"\n",
    "        yield Caracteristica(\"tem_penas\")\n",
    "        yield Caracteristica(\"voa\")\n",
    "        yield Caracteristica(\"pode_cantar\")\n",
    "        print(\"Fatos iniciais declarados.\")\n",
    "\n",
    "    @Rule(Caracteristica(\"tem_penas\"), Caracteristica(\"voa\"))\n",
    "    def regra_e_passaro(self):\n",
    "        \"\"\"Se o animal tem penas e voa, então é um pássaro.\"\"\"\n",
    "        print(\"Regra 'e_passaro' disparada!\")\n",
    "        self.declare(Fact(animal=\"pássaro\"))\n",
    "\n",
    "    @Rule(Fact(animal=\"pássaro\"), Caracteristica(\"pode_cantar\"))\n",
    "    def regra_e_canario(self):\n",
    "        \"\"\"Se é um pássaro e pode cantar, então é um canário.\"\"\"\n",
    "        print(\"Regra 'e_canario' disparada!\")\n",
    "        self.declare(Fact(animal=\"canário\"))\n",
    "\n",
    "    @Rule(Fact(animal=MATCH.tipo))\n",
    "    def imprimir_resultado(self, tipo):\n",
    "        \"\"\"Uma regra para imprimir a conclusão final.\"\"\"\n",
    "        if tipo == 'canário':\n",
    "            print(f\"\\nConclusão final do sistema: O animal é um {tipo}.\")\n",
    "        \n",
    "# Executando o sistema especialista\n",
    "engine = Animal()\n",
    "engine.reset()  # Prepara o motor\n",
    "engine.run()    # Executa o motor de inferência"
   ],
   "outputs": [
    {
     "name": "stdout",
     "output_type": "stream",
     "text": [
      "Fatos iniciais declarados.\n",
      "Regra 'e_passaro' disparada!\n",
      "Regra 'e_canario' disparada!\n",
      "\n",
      "Conclusão final do sistema: O animal é um canário.\n"
     ]
    }
   ],
   "execution_count": 3
  },
  {
   "cell_type": "markdown",
   "metadata": {},
   "source": [
    "---"
   ]
  },
  {
   "cell_type": "markdown",
   "metadata": {},
   "source": [
    "## Módulo 4: Desenvolvimento de um Sistema Especialista - Diagnóstico de Doenças de Plantas\n",
    "\n",
    "**Teoria:**\n",
    "Agora vamos aplicar o que aprendemos para construir um sistema especialista mais prático. O domínio escolhido será o diagnóstico de problemas comuns em plantas de interior.\n",
    "\n",
    "**Etapas do Desenvolvimento:**\n",
    "1.  **Aquisição do Conhecimento:** Conversar com um \"especialista\" (ou pesquisar em fontes confiáveis) para coletar fatos e regras. *Ex: \"Folhas amareladas podem ser excesso de água ou falta de nutrientes.\"*\n",
    "2.  **Representação do Conhecimento:** Traduzir esse conhecimento para a estrutura da ferramenta escolhida (no nosso caso, Fatos e Regras da `experta`).\n",
    "3.  **Implementação:** Escrever o código do sistema.\n",
    "4.  **Teste e Validação:** Testar o sistema com casos de teste conhecidos para verificar se as conclusões estão corretas.\n",
    "\n",
    "**Nosso Problema:** Diagnosticar a causa de um problema em uma planta com base em sintomas visuais."
   ]
  },
  {
   "cell_type": "code",
   "metadata": {
    "ExecuteTime": {
     "end_time": "2025-09-18T14:14:22.616773Z",
     "start_time": "2025-09-18T14:14:22.606438Z"
    }
   },
   "source": [
    "# Módulo 4: Código\n",
    "from experta import *\n",
    "\n",
    "# Definindo o tipo de Fato que usaremos\n",
    "class Sintoma(Fact):\n",
    "    \"Fato para representar os sintomas da planta.\"\n",
    "    pass\n",
    "\n",
    "class SistemaDiagnosticoPlanta(KnowledgeEngine):\n",
    "    @DefFacts()\n",
    "    def sintomas_observados(self):\n",
    "        # Estes são os fatos que um usuário nos daria sobre a planta\n",
    "        yield Sintoma(tipo=\"folhas\", estado=\"amareladas\")\n",
    "        yield Sintoma(tipo=\"solo\", estado=\"muito úmido\")\n",
    "        # Adicione ou comente fatos para testar diferentes cenários\n",
    "        # yield Sintoma(tipo=\"folhas\", estado=\"murchas\")\n",
    "        # yield Sintoma(tipo=\"praga\", presenca=\"pontos brancos\")\n",
    "        \n",
    "    # --- Base de Conhecimento (Regras) ---\n",
    "\n",
    "    @Rule(Sintoma(tipo=\"folhas\", estado=\"amareladas\"),\n",
    "          Sintoma(tipo=\"solo\", estado=\"muito úmido\"))\n",
    "    def causa_excesso_de_agua(self):\n",
    "        self.declare(Fact(diagnostico=\"Excesso de água\", \n",
    "                          solucao=\"Reduza a frequência da rega e verifique a drenagem do vaso.\"))\n",
    "\n",
    "    @Rule(Sintoma(tipo=\"folhas\", estado=\"amareladas\"),\n",
    "          Sintoma(tipo=\"solo\", estado=\"seco\"))\n",
    "    def causa_falta_de_agua_ou_nutrientes(self):\n",
    "        self.declare(Fact(diagnostico=\"Falta de água ou nutrientes\", \n",
    "                          solucao=\"Regue a planta imediatamente. Se o problema persistir, considere adubar.\"))\n",
    "\n",
    "    @Rule(Sintoma(tipo=\"folhas\", estado=\"murchas\"),\n",
    "          Sintoma(tipo=\"solo\", estado=\"seco\"))\n",
    "    def causa_falta_de_agua(self):\n",
    "        self.declare(Fact(diagnostico=\"Falta de água severa\", \n",
    "                          solucao=\"Regue abundantemente e certifique-se de que a água atinge as raízes.\"))\n",
    "\n",
    "    @Rule(Sintoma(tipo=\"praga\", presenca=\"pontos brancos\"))\n",
    "    def causa_cochonilhas(self):\n",
    "        self.declare(Fact(diagnostico=\"Presença de cochonilhas\", \n",
    "                          solucao=\"Limpe as folhas com um pano úmido e aplique óleo de neem.\"))\n",
    "\n",
    "    # Regra final para imprimir o diagnóstico\n",
    "    @Rule(Fact(diagnostico=MATCH.diag, solucao=MATCH.sol))\n",
    "    def apresentar_diagnostico(self, diag, sol):\n",
    "        print(\"--- Diagnóstico do Sistema Especialista ---\")\n",
    "        print(f\"Problema Identificado: {diag}\")\n",
    "        print(f\"Solução Recomendada: {sol}\")\n",
    "        print(\"-----------------------------------------\")\n",
    "\n",
    "# Execução do sistema\n",
    "engine_planta = SistemaDiagnosticoPlanta()\n",
    "engine_planta.reset()\n",
    "engine_planta.run()"
   ],
   "outputs": [
    {
     "name": "stdout",
     "output_type": "stream",
     "text": [
      "--- Diagnóstico do Sistema Especialista ---\n",
      "Problema Identificado: Excesso de água\n",
      "Solução Recomendada: Reduza a frequência da rega e verifique a drenagem do vaso.\n",
      "-----------------------------------------\n"
     ]
    }
   ],
   "execution_count": 4
  },
  {
   "cell_type": "markdown",
   "metadata": {},
   "source": [
    "---"
   ]
  },
  {
   "cell_type": "markdown",
   "metadata": {},
   "source": [
    "## Módulo 5: Desenvolvimento de um Sistema Especialista - Interação e Explicação\n",
    "\n",
    "**Teoria:**\n",
    "Um sistema especialista se torna muito mais útil quando pode **interagir com o usuário** para obter fatos e **explicar seu raciocínio**.\n",
    "\n",
    "1.  **Interface com o Usuário:** Em vez de declarar os fatos iniciais no código (`DefFacts`), o sistema deve perguntar ao usuário sobre a situação. Isso torna o sistema dinâmico e aplicável a múltiplos casos.\n",
    "\n",
    "2.  **Facilidade de Explicação (Explanation Facility):** Uma das características mais importantes dos sistemas especialistas é a capacidade de responder a perguntas como \"*Por que você chegou a essa conclusão?*\". Isso aumenta a confiança do usuário no sistema. Uma simulação simples disso é imprimir a regra que está sendo disparada no momento da inferência.\n",
    "\n",
    "Vamos modificar nosso sistema de diagnóstico de plantas para torná-lo interativo."
   ]
  },
  {
   "cell_type": "code",
   "metadata": {
    "ExecuteTime": {
     "end_time": "2025-09-18T14:37:21.620838Z",
     "start_time": "2025-09-18T14:37:13.776359Z"
    }
   },
   "source": [
    "# Módulo 5: Código\n",
    "from experta import *\n",
    "import readline # Melhora a experiência do input\n",
    "\n",
    "# A definição dos Fatos e do Motor continua a mesma\n",
    "class Sintoma(Fact):\n",
    "    pass\n",
    "\n",
    "class SistemaDiagnosticoInterativo(KnowledgeEngine):\n",
    "    \n",
    "    # Não usamos mais @DefFacts, os fatos virão da interação\n",
    "\n",
    "    # --- Base de Conhecimento (Regras com \"Explicação\") ---\n",
    "    @Rule(Sintoma(tipo=\"folhas\", estado=\"amareladas\"),\n",
    "          Sintoma(tipo=\"solo\", estado=\"muito úmido\"))\n",
    "    def causa_excesso_de_agua(self):\n",
    "        print(\"\\n>>> Raciocínio: A regra 'excesso_de_agua' foi ativada.\")\n",
    "        print(\">>> SE as folhas estão amareladas E o solo está muito úmido, ENTÃO o problema é excesso de água.\")\n",
    "        self.declare(Fact(diagnostico=\"Excesso de água\", \n",
    "                          solucao=\"Reduza a frequência da rega e verifique a drenagem do vaso.\"))\n",
    "\n",
    "    @Rule(Sintoma(tipo=\"folhas\", estado=\"amareladas\"),\n",
    "          Sintoma(tipo=\"solo\", estado=\"seco\"))\n",
    "    def causa_falta_de_agua_ou_nutrientes(self):\n",
    "        print(\"\\n>>> Raciocínio: A regra 'falta_de_agua_ou_nutrientes' foi ativada.\")\n",
    "        print(\">>> SE as folhas estão amareladas E o solo está seco, ENTÃO o problema é falta de água ou nutrientes.\")\n",
    "        self.declare(Fact(diagnostico=\"Falta de água ou nutrientes\", \n",
    "                          solucao=\"Regue a planta imediatamente. Se o problema persistir, considere adubar.\"))\n",
    "\n",
    "    @Rule(Sintoma(tipo=\"praga\", presenca=\"pontos brancos\"))\n",
    "    def causa_cochonilhas(self):\n",
    "        print(\"\\n>>> Raciocínio: A regra 'cochonilhas' foi ativada.\")\n",
    "        print(\">>> SE há pontos brancos nas folhas, ENTÃO o problema é a praga cochonilha.\")\n",
    "        self.declare(Fact(diagnostico=\"Presença de cochonilhas\", \n",
    "                          solucao=\"Limpe as folhas com um pano úmido e aplique óleo de neem.\"))\n",
    "        \n",
    "    # --- Interação e Resultado ---\n",
    "    @Rule(Fact(diagnostico=MATCH.diag, solucao=MATCH.sol))\n",
    "    def apresentar_diagnostico(self, diag, sol):\n",
    "        print(\"\\n--- Diagnóstico do Sistema Especialista ---\")\n",
    "        print(f\"Problema Identificado: {diag}\")\n",
    "        print(f\"Solução Recomendada: {sol}\")\n",
    "        print(\"-----------------------------------------\")\n",
    "\n",
    "# Função para interagir com o usuário e coletar fatos\n",
    "def coletar_fatos_do_usuario(engine):\n",
    "    print(\"Por favor, descreva os sintomas da sua planta (responda com 's' para sim ou 'n' para não).\")\n",
    "    \n",
    "    # Pergunta 1\n",
    "    resposta = input(\"As folhas estão amareladas? (s/n): \").lower()\n",
    "    if resposta == 's':\n",
    "        engine.declare(Sintoma(tipo=\"folhas\", estado=\"amareladas\"))\n",
    "        \n",
    "        # Pergunta aninhada\n",
    "        resposta_solo = input(\"O solo parece muito úmido ao toque? (s/n): \").lower()\n",
    "        if resposta_solo == 's':\n",
    "            engine.declare(Sintoma(tipo=\"solo\", estado=\"muito úmido\"))\n",
    "        else:\n",
    "            engine.declare(Sintoma(tipo=\"solo\", estado=\"seco\"))\n",
    "            \n",
    "    # Pergunta 2\n",
    "    resposta = input(\"Você vê pequenos pontos brancos, parecidos com algodão, nas folhas ou caules? (s/n): \").lower()\n",
    "    if resposta == 's':\n",
    "        engine.declare(Sintoma(tipo=\"praga\", presenca=\"pontos brancos\"))\n",
    "    \n",
    "    # Adicione mais perguntas aqui para outros sintomas\n",
    "\n",
    "# --- Execução do Sistema Interativo ---\n",
    "engine_interativo = SistemaDiagnosticoInterativo()\n",
    "engine_interativo.reset()\n",
    "\n",
    "coletar_fatos_do_usuario(engine_interativo)\n",
    "\n",
    "print(\"\\nIniciando motor de inferência com os fatos coletados...\")\n",
    "engine_interativo.run()"
   ],
   "outputs": [
    {
     "name": "stdout",
     "output_type": "stream",
     "text": [
      "Por favor, descreva os sintomas da sua planta (responda com 's' para sim ou 'n' para não).\n",
      "\n",
      "Iniciando motor de inferência com os fatos coletados...\n",
      "\n",
      ">>> Raciocínio: A regra 'cochonilhas' foi ativada.\n",
      ">>> SE há pontos brancos nas folhas, ENTÃO o problema é a praga cochonilha.\n",
      "\n",
      "--- Diagnóstico do Sistema Especialista ---\n",
      "Problema Identificado: Presença de cochonilhas\n",
      "Solução Recomendada: Limpe as folhas com um pano úmido e aplique óleo de neem.\n",
      "-----------------------------------------\n"
     ]
    }
   ],
   "execution_count": 5
  }
 ],
 "metadata": {
  "kernelspec": {
   "display_name": "Python 3",
   "language": "python",
   "name": "python3"
  },
  "language_info": {
   "codemirror_mode": {
    "name": "ipython",
    "version": 3
   },
   "file_extension": ".py",
   "mimetype": "text/x-python",
   "name": "python",
   "nbconvert_exporter": "python",
   "pygments_lexer": "ipython3",
   "version": "3.9.12"
  }
 },
 "nbformat": 4,
 "nbformat_minor": 4
}
