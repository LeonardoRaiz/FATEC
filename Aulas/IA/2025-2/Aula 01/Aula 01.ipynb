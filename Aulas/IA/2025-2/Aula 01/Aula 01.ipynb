{
 "cells": [
  {
   "metadata": {},
   "cell_type": "markdown",
   "source": "# Aula 01",
   "id": "9e36e14e4c104a22"
  },
  {
   "metadata": {},
   "cell_type": "markdown",
   "source": "## Modulo 01",
   "id": "70fadbe56957682c"
  },
  {
   "cell_type": "code",
   "id": "initial_id",
   "metadata": {
    "collapsed": true,
    "ExecuteTime": {
     "end_time": "2025-08-18T22:42:20.541971Z",
     "start_time": "2025-08-18T22:42:20.537699Z"
    }
   },
   "source": [
    " # Importação das bibliotecas\n",
    "from sklearn.datasets import load_iris\n",
    "from sklearn.model_selection import train_test_split\n",
    "from sklearn.tree import DecisionTreeClassifier\n",
    "from sklearn.neighbors import KNeighborsClassifier\n",
    "from sklearn.metrics import accuracy_score\n",
    "from sklearn.preprocessing import StandardScaler\n",
    "import pandas as pd\n",
    "\n",
    "iris = load_iris()\n",
    "x = iris.data #[n_amostras, n_features]\n",
    "y = iris.target # Vetor de alvo [n_amostras]\n",
    "\n",
    "print(\"Forma das amostras (x): \", x.shape[0])\n",
    "print(\"Forma das caracteristicas (x): \", x.shape[1])\n",
    "print(\"Forma do valor alvo (y): \", y.shape)"
   ],
   "outputs": [
    {
     "name": "stdout",
     "output_type": "stream",
     "text": [
      "Forma das amostras (x):  150\n",
      "Forma das caracteristicas (x):  4\n",
      "Forma do valor alvo (y):  (150,)\n"
     ]
    }
   ],
   "execution_count": 12
  },
  {
   "metadata": {},
   "cell_type": "markdown",
   "source": "Treino e teste 😌",
   "id": "bd9d15685620ec67"
  },
  {
   "metadata": {
    "ExecuteTime": {
     "end_time": "2025-08-18T22:42:50.929263Z",
     "start_time": "2025-08-18T22:42:50.926674Z"
    }
   },
   "cell_type": "code",
   "source": [
    "# Particionar os dados para treinamento\n",
    "x_train, x_test, y_train, y_test = train_test_split(x, y, test_size=0.3, random_state=30)\n",
    "print(\"Tamanho do conjunto do treinamento: \", x_train.shape)\n",
    "print(\"Tamanho do conjunto do teste: \", x_test.shape)"
   ],
   "id": "3492e4998f3325cb",
   "outputs": [
    {
     "name": "stdout",
     "output_type": "stream",
     "text": [
      "Tamanho do conjunto do treinamento:  (105, 4)\n",
      "Tamanho do conjunto do teste:  (45, 4)\n"
     ]
    }
   ],
   "execution_count": 15
  },
  {
   "metadata": {},
   "cell_type": "markdown",
   "source": "Árvore de decisão",
   "id": "7aae4fa42e772bc1"
  },
  {
   "metadata": {
    "ExecuteTime": {
     "end_time": "2025-08-18T22:45:16.140633Z",
     "start_time": "2025-08-18T22:45:16.136523Z"
    }
   },
   "cell_type": "code",
   "source": [
    "tree_model = DecisionTreeClassifier(random_state=30)\n",
    "tree_model.fit(x_train, y_train)\n",
    "print(tree_model.get_params())"
   ],
   "id": "1fe333dc93a0c9e4",
   "outputs": [
    {
     "name": "stdout",
     "output_type": "stream",
     "text": [
      "{'ccp_alpha': 0.0, 'class_weight': None, 'criterion': 'gini', 'max_depth': None, 'max_features': None, 'max_leaf_nodes': None, 'min_impurity_decrease': 0.0, 'min_samples_leaf': 1, 'min_samples_split': 2, 'min_weight_fraction_leaf': 0.0, 'monotonic_cst': None, 'random_state': 30, 'splitter': 'best'}\n"
     ]
    }
   ],
   "execution_count": 17
  },
  {
   "metadata": {},
   "cell_type": "markdown",
   "source": "Predição",
   "id": "a773bd7b7fb3dc25"
  },
  {
   "metadata": {
    "ExecuteTime": {
     "end_time": "2025-08-18T22:49:03.197982Z",
     "start_time": "2025-08-18T22:49:03.194538Z"
    }
   },
   "cell_type": "code",
   "source": [
    "y_tree_predict = tree_model.predict(x_test)\n",
    "accuracy_tree = accuracy_score(y_test, y_tree_predict)\n",
    "\n",
    "print(accuracy_tree)\n"
   ],
   "id": "ebb663dec5c2b938",
   "outputs": [
    {
     "name": "stdout",
     "output_type": "stream",
     "text": [
      "0.9555555555555556\n"
     ]
    }
   ],
   "execution_count": 18
  }
 ],
 "metadata": {
  "kernelspec": {
   "display_name": "Python 3",
   "language": "python",
   "name": "python3"
  },
  "language_info": {
   "codemirror_mode": {
    "name": "ipython",
    "version": 2
   },
   "file_extension": ".py",
   "mimetype": "text/x-python",
   "name": "python",
   "nbconvert_exporter": "python",
   "pygments_lexer": "ipython2",
   "version": "2.7.6"
  }
 },
 "nbformat": 4,
 "nbformat_minor": 5
}
