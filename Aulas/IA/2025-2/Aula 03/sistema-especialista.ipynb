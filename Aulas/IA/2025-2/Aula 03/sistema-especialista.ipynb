{
 "cells": [
  {
   "metadata": {},
   "cell_type": "markdown",
   "source": "# Sistemas especialistas",
   "id": "3bd6741a75613470"
  },
  {
   "cell_type": "code",
   "id": "initial_id",
   "metadata": {
    "collapsed": true,
    "ExecuteTime": {
     "end_time": "2025-09-22T23:21:45.788050Z",
     "start_time": "2025-09-22T23:21:45.784902Z"
    }
   },
   "source": [
    "import experta\n",
    "\n",
    "base_conhecimento = {\n",
    "    \"sol\": {\n",
    "        \"quente\": \"Ir à Praia\",\n",
    "        \"ameno\": \"Fazer uma caminhada no parque\"\n",
    "    },\n",
    "    \"nublado\": {\n",
    "        \"quente\": \"Visitar um parente com ar condicionado\",\n",
    "        \"ameno\": \"Ficar em casa e tomar café\"\n",
    "    },\n",
    "    \"chuva\": {\n",
    "        \"quente\": \"Ficar na chuva\",\n",
    "        \"ameno\": \"Ficar em casa comendo pipoca\"\n",
    "    }\n",
    "}"
   ],
   "outputs": [],
   "execution_count": 23
  },
  {
   "metadata": {},
   "cell_type": "markdown",
   "source": "## Motor de inferência (SIMPLES)",
   "id": "598cda01d2102727"
  },
  {
   "metadata": {
    "ExecuteTime": {
     "end_time": "2025-09-22T23:21:45.795623Z",
     "start_time": "2025-09-22T23:21:45.793052Z"
    }
   },
   "cell_type": "code",
   "source": [
    "def motor_inferencia_clima(fatos):\n",
    "    clima = fatos.get('clima')\n",
    "    temperatura = fatos.get('temperatura')\n",
    "\n",
    "    if clima in base_conhecimento and temperatura in base_conhecimento[clima]:\n",
    "        return base_conhecimento[clima][temperatura]\n",
    "    else:\n",
    "        return \"Não tenho recomendação para esta combinação de clima e temperatura.\""
   ],
   "id": "dd0259a3b15cd25c",
   "outputs": [],
   "execution_count": 24
  },
  {
   "metadata": {},
   "cell_type": "markdown",
   "source": "## Simulação",
   "id": "e9af00cd6d2ddca0"
  },
  {
   "metadata": {
    "ExecuteTime": {
     "end_time": "2025-09-22T23:21:45.807856Z",
     "start_time": "2025-09-22T23:21:45.805581Z"
    }
   },
   "cell_type": "code",
   "source": [
    "fatos = {\n",
    "    \"clima\": \"chuva\",\n",
    "    \"temperatura\": \"ameno\"\n",
    "}\n",
    "\n",
    "conclusao = motor_inferencia_clima(fatos)\n",
    "print(f\"Fatos: {fatos}\")\n",
    "print(f\"Recomendação do sistema: {conclusao}\")"
   ],
   "id": "1a27b555308c0bec",
   "outputs": [
    {
     "name": "stdout",
     "output_type": "stream",
     "text": [
      "Fatos: {'clima': 'chuva', 'temperatura': 'ameno'}\n",
      "Recomendação do sistema: Ficar em casa comendo pipoca\n"
     ]
    }
   ],
   "execution_count": 25
  },
  {
   "metadata": {},
   "cell_type": "markdown",
   "source": "# Forward e Backward",
   "id": "dffe5f55b091769d"
  },
  {
   "metadata": {
    "ExecuteTime": {
     "end_time": "2025-09-22T23:21:45.820112Z",
     "start_time": "2025-09-22T23:21:45.817119Z"
    }
   },
   "cell_type": "code",
   "source": [
    "fatos = [\"tem_pelos\", \"voa\", \"produz_leite\"]\n",
    "regras = [\n",
    "    {\n",
    "        \"se\": [\"tem_penas\", \"voa\"],\n",
    "        \"entao\": \"e_pessaro\"\n",
    "    },\n",
    "    {\n",
    "        \"se\": [\"tem_penas\", \"pode_cantar\"],\n",
    "        \"entao\": \"e_canario\"\n",
    "    },\n",
    "    {\n",
    "        \"se\": [\"tem_pelos\", \"produz_leite\"],\n",
    "        \"entao\": \"e_mamifero\"\n",
    "    },\n",
    "    {\n",
    "        \"se\": [\"tem_pelos\", \"voa\"],\n",
    "        \"entao\": \"e_morcego\"\n",
    "    },\n",
    "    {\n",
    "        \"se\": [\"tem_pelos\", \"pode_cantar\"],\n",
    "        \"entao\": \"e_pirata\"\n",
    "    },\n",
    "    {\n",
    "        \"se\": [\"tem_pelos\", \"late\"],\n",
    "        \"entao\": \"e_cachorro\"\n",
    "    }\n",
    "]"
   ],
   "id": "8d3ddec1ab054621",
   "outputs": [],
   "execution_count": 26
  },
  {
   "metadata": {},
   "cell_type": "markdown",
   "source": "## Motor de Inferência (Forward)",
   "id": "56665e2e8bcded05"
  },
  {
   "metadata": {
    "ExecuteTime": {
     "end_time": "2025-09-22T23:21:45.827522Z",
     "start_time": "2025-09-22T23:21:45.824525Z"
    }
   },
   "cell_type": "code",
   "source": [
    "def motor_inferencia_forward(fatos_init, regras):\n",
    "    fatos_derivados = list(fatos_init)\n",
    "    novo_fato = True\n",
    "\n",
    "    while novo_fato:\n",
    "        novo_fato = False\n",
    "        for regra in regras:\n",
    "            condicao_satisfeita = all(condicao in fatos_derivados for condicao in regra[\"se\"])\n",
    "\n",
    "            if condicao_satisfeita and regra[\"entao\"] not in fatos_derivados:\n",
    "                fatos_derivados.append(regra[\"entao\"])\n",
    "                print(f\"Regra disparada: SE {regra['se']} ENTAO {regra['entao']}\")\n",
    "                print(f\"Fatos adicionado: {regra['entao']}\")\n",
    "                novo_fato = True\n",
    "\n",
    "    return fatos_derivados"
   ],
   "id": "ed406d3c57658a44",
   "outputs": [],
   "execution_count": 27
  },
  {
   "metadata": {},
   "cell_type": "markdown",
   "source": "## Simulação",
   "id": "140423afede7e9a5"
  },
  {
   "metadata": {
    "ExecuteTime": {
     "end_time": "2025-09-22T23:21:45.835138Z",
     "start_time": "2025-09-22T23:21:45.832562Z"
    }
   },
   "cell_type": "code",
   "source": [
    "print(f\"Fatos iniciais: {fatos}\")\n",
    "fatos_finais = motor_inferencia_forward(fatos, regras)\n",
    "print(f\"Fatos finais: {fatos_finais}\")"
   ],
   "id": "88ddf8b768f9ea91",
   "outputs": [
    {
     "name": "stdout",
     "output_type": "stream",
     "text": [
      "Fatos iniciais: ['tem_pelos', 'voa', 'produz_leite']\n",
      "Regra disparada: SE ['tem_pelos', 'produz_leite'] ENTAO e_mamifero\n",
      "Fatos adicionado: e_mamifero\n",
      "Regra disparada: SE ['tem_pelos', 'voa'] ENTAO e_morcego\n",
      "Fatos adicionado: e_morcego\n",
      "Fatos finais: ['tem_pelos', 'voa', 'produz_leite', 'e_mamifero', 'e_morcego']\n"
     ]
    }
   ],
   "execution_count": 28
  },
  {
   "metadata": {},
   "cell_type": "markdown",
   "source": "# Biblioteca Experta\n",
   "id": "54d55ee672464959"
  },
  {
   "metadata": {},
   "cell_type": "code",
   "outputs": [],
   "execution_count": null,
   "source": "",
   "id": "6c4bf58cfebe9480"
  },
  {
   "metadata": {
    "ExecuteTime": {
     "end_time": "2025-09-29T22:53:33.170601Z",
     "start_time": "2025-09-29T22:53:33.153317Z"
    }
   },
   "cell_type": "code",
   "source": [
    "from experta import *\n",
    "\n",
    "class Caracteristica(Fact):\n",
    "    \"Representa uma característica observada\"\n",
    "    pass\n",
    "\n",
    "class Animal(KnowledgeEngine):\n",
    "    @DefFacts()\n",
    "    def fatos_iniciais(self):\n",
    "        yield Caracteristica(\"tem_penas\")\n",
    "        yield Caracteristica(\"voa\")\n",
    "        yield Caracteristica(\"pode_cantar\")\n",
    "        print(\"Fatos iniciais carregados.\")\n",
    "\n",
    "    @Rule(Caracteristica(\"tem_penas\"), Caracteristica(\"voa\"))\n",
    "    def regra_e_passaro(self):\n",
    "        print(\"Regra disparada: SE tem_penas e voa ENTAO e_passaro\")\n",
    "        self.declare(Fact(animal=\"e_passaro\"))\n",
    "\n",
    "    @Rule(Fact(animal=\"e_passaro\"), Caracteristica(\"pode_cantar\"))\n",
    "    def regra_e_canario(self):\n",
    "        print(\"Regra disparada: SE e_passaro e pode_cantar ENTAO e_canario\")\n",
    "        self.declare(Fact(animal=\"canário\"))\n",
    "\n",
    "    @Rule(Fact(animal=MATCH.tipo))\n",
    "    def print_resultado(self, tipo):\n",
    "        if tipo == \"canário\":\n",
    "            print(f\"Conclusão final do sistema, o tipo de anial é: {tipo}\")\n",
    "\n",
    "animal = Animal()\n",
    "animal.reset()\n",
    "animal.run()\n"
   ],
   "id": "44222ad3792b761e",
   "outputs": [
    {
     "name": "stdout",
     "output_type": "stream",
     "text": [
      "Fatos iniciais carregados.\n",
      "Regra disparada: SE tem_penas e voa ENTAO e_passaro\n",
      "Regra disparada: SE e_passaro e pode_cantar ENTAO e_canario\n",
      "Conclusão final do sistema, o tipo de anial é: canário\n"
     ]
    }
   ],
   "execution_count": 1
  }
 ],
 "metadata": {
  "kernelspec": {
   "display_name": "Python 3",
   "language": "python",
   "name": "python3"
  },
  "language_info": {
   "codemirror_mode": {
    "name": "ipython",
    "version": 2
   },
   "file_extension": ".py",
   "mimetype": "text/x-python",
   "name": "python",
   "nbconvert_exporter": "python",
   "pygments_lexer": "ipython2",
   "version": "2.7.6"
  }
 },
 "nbformat": 4,
 "nbformat_minor": 5
}
